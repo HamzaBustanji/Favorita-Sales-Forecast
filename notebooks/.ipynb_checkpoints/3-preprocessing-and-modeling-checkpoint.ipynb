{
 "cells": [
  {
   "cell_type": "markdown",
   "id": "b3419027",
   "metadata": {},
   "source": [
    "# 3 Preprocessing and modeling"
   ]
  },
  {
   "cell_type": "code",
   "execution_count": 44,
   "id": "1dac9dd3",
   "metadata": {},
   "outputs": [],
   "source": [
    "import pandas as pd\n",
    "import numpy as np \n",
    "import matplotlib.pyplot as plt \n",
    "import seaborn as sns\n",
    "import datetime as dt\n",
    "sns.set_theme(style=\"darkgrid\")\n",
    "import matplotlib.ticker as ticker\n",
    "\n",
    "#from statsmodels.tsa.arima_model import ARIMAResults\n",
    "from pmdarima import auto_arima\n",
    "from statsmodels.tsa.arima.model import ARIMA, ARIMAResults\n"
   ]
  },
  {
   "cell_type": "markdown",
   "id": "5f18880d",
   "metadata": {},
   "source": [
    "___\n",
    "\n",
    "## Loading data"
   ]
  },
  {
   "cell_type": "code",
   "execution_count": 2,
   "id": "736aafff",
   "metadata": {},
   "outputs": [],
   "source": [
    "df_agg_month = pd.read_csv('/Users/hamzaalbustanji/Documents/GitHub/Favorita-Sales-Forecast/data/df_agg_month.csv',\n",
    "                          index_col='date',parse_dates=True)"
   ]
  },
  {
   "cell_type": "code",
   "execution_count": 4,
   "id": "cf248076",
   "metadata": {},
   "outputs": [
    {
     "data": {
      "text/html": [
       "<div>\n",
       "<style scoped>\n",
       "    .dataframe tbody tr th:only-of-type {\n",
       "        vertical-align: middle;\n",
       "    }\n",
       "\n",
       "    .dataframe tbody tr th {\n",
       "        vertical-align: top;\n",
       "    }\n",
       "\n",
       "    .dataframe thead th {\n",
       "        text-align: right;\n",
       "    }\n",
       "</style>\n",
       "<table border=\"1\" class=\"dataframe\">\n",
       "  <thead>\n",
       "    <tr style=\"text-align: right;\">\n",
       "      <th></th>\n",
       "      <th>sales</th>\n",
       "      <th>month</th>\n",
       "      <th>year</th>\n",
       "    </tr>\n",
       "    <tr>\n",
       "      <th>date</th>\n",
       "      <th></th>\n",
       "      <th></th>\n",
       "      <th></th>\n",
       "    </tr>\n",
       "  </thead>\n",
       "  <tbody>\n",
       "    <tr>\n",
       "      <th>2013-01-31</th>\n",
       "      <td>1.032762e+07</td>\n",
       "      <td>1</td>\n",
       "      <td>2013</td>\n",
       "    </tr>\n",
       "    <tr>\n",
       "      <th>2013-02-28</th>\n",
       "      <td>9.658960e+06</td>\n",
       "      <td>2</td>\n",
       "      <td>2013</td>\n",
       "    </tr>\n",
       "    <tr>\n",
       "      <th>2013-03-31</th>\n",
       "      <td>1.142850e+07</td>\n",
       "      <td>3</td>\n",
       "      <td>2013</td>\n",
       "    </tr>\n",
       "    <tr>\n",
       "      <th>2013-04-30</th>\n",
       "      <td>1.099346e+07</td>\n",
       "      <td>4</td>\n",
       "      <td>2013</td>\n",
       "    </tr>\n",
       "    <tr>\n",
       "      <th>2013-05-31</th>\n",
       "      <td>1.159770e+07</td>\n",
       "      <td>5</td>\n",
       "      <td>2013</td>\n",
       "    </tr>\n",
       "  </tbody>\n",
       "</table>\n",
       "</div>"
      ],
      "text/plain": [
       "                   sales  month  year\n",
       "date                                 \n",
       "2013-01-31  1.032762e+07      1  2013\n",
       "2013-02-28  9.658960e+06      2  2013\n",
       "2013-03-31  1.142850e+07      3  2013\n",
       "2013-04-30  1.099346e+07      4  2013\n",
       "2013-05-31  1.159770e+07      5  2013"
      ]
     },
     "execution_count": 4,
     "metadata": {},
     "output_type": "execute_result"
    }
   ],
   "source": [
    "df_agg_month.head()"
   ]
  },
  {
   "cell_type": "markdown",
   "id": "3eb2a196",
   "metadata": {},
   "source": [
    "___\n",
    "\n",
    "## Train / Test split"
   ]
  },
  {
   "cell_type": "code",
   "execution_count": 17,
   "id": "5a3aeb40",
   "metadata": {},
   "outputs": [
    {
     "data": {
      "text/html": [
       "<div>\n",
       "<style scoped>\n",
       "    .dataframe tbody tr th:only-of-type {\n",
       "        vertical-align: middle;\n",
       "    }\n",
       "\n",
       "    .dataframe tbody tr th {\n",
       "        vertical-align: top;\n",
       "    }\n",
       "\n",
       "    .dataframe thead th {\n",
       "        text-align: right;\n",
       "    }\n",
       "</style>\n",
       "<table border=\"1\" class=\"dataframe\">\n",
       "  <thead>\n",
       "    <tr style=\"text-align: right;\">\n",
       "      <th></th>\n",
       "      <th>sales</th>\n",
       "      <th>month</th>\n",
       "      <th>year</th>\n",
       "    </tr>\n",
       "    <tr>\n",
       "      <th>date</th>\n",
       "      <th></th>\n",
       "      <th></th>\n",
       "      <th></th>\n",
       "    </tr>\n",
       "  </thead>\n",
       "  <tbody>\n",
       "    <tr>\n",
       "      <th>2016-10-31</th>\n",
       "      <td>2.403039e+07</td>\n",
       "      <td>10</td>\n",
       "      <td>2016</td>\n",
       "    </tr>\n",
       "    <tr>\n",
       "      <th>2016-11-30</th>\n",
       "      <td>2.464264e+07</td>\n",
       "      <td>11</td>\n",
       "      <td>2016</td>\n",
       "    </tr>\n",
       "    <tr>\n",
       "      <th>2016-12-31</th>\n",
       "      <td>2.964029e+07</td>\n",
       "      <td>12</td>\n",
       "      <td>2016</td>\n",
       "    </tr>\n",
       "    <tr>\n",
       "      <th>2017-01-31</th>\n",
       "      <td>2.632816e+07</td>\n",
       "      <td>1</td>\n",
       "      <td>2017</td>\n",
       "    </tr>\n",
       "    <tr>\n",
       "      <th>2017-02-28</th>\n",
       "      <td>2.325011e+07</td>\n",
       "      <td>2</td>\n",
       "      <td>2017</td>\n",
       "    </tr>\n",
       "    <tr>\n",
       "      <th>2017-03-31</th>\n",
       "      <td>2.670402e+07</td>\n",
       "      <td>3</td>\n",
       "      <td>2017</td>\n",
       "    </tr>\n",
       "    <tr>\n",
       "      <th>2017-04-30</th>\n",
       "      <td>2.589531e+07</td>\n",
       "      <td>4</td>\n",
       "      <td>2017</td>\n",
       "    </tr>\n",
       "    <tr>\n",
       "      <th>2017-05-31</th>\n",
       "      <td>2.691185e+07</td>\n",
       "      <td>5</td>\n",
       "      <td>2017</td>\n",
       "    </tr>\n",
       "    <tr>\n",
       "      <th>2017-06-30</th>\n",
       "      <td>2.568282e+07</td>\n",
       "      <td>6</td>\n",
       "      <td>2017</td>\n",
       "    </tr>\n",
       "    <tr>\n",
       "      <th>2017-07-31</th>\n",
       "      <td>2.701148e+07</td>\n",
       "      <td>7</td>\n",
       "      <td>2017</td>\n",
       "    </tr>\n",
       "  </tbody>\n",
       "</table>\n",
       "</div>"
      ],
      "text/plain": [
       "                   sales  month  year\n",
       "date                                 \n",
       "2016-10-31  2.403039e+07     10  2016\n",
       "2016-11-30  2.464264e+07     11  2016\n",
       "2016-12-31  2.964029e+07     12  2016\n",
       "2017-01-31  2.632816e+07      1  2017\n",
       "2017-02-28  2.325011e+07      2  2017\n",
       "2017-03-31  2.670402e+07      3  2017\n",
       "2017-04-30  2.589531e+07      4  2017\n",
       "2017-05-31  2.691185e+07      5  2017\n",
       "2017-06-30  2.568282e+07      6  2017\n",
       "2017-07-31  2.701148e+07      7  2017"
      ]
     },
     "execution_count": 17,
     "metadata": {},
     "output_type": "execute_result"
    }
   ],
   "source": [
    "df_agg_month.tail(10)"
   ]
  },
  {
   "cell_type": "markdown",
   "id": "f9029695",
   "metadata": {},
   "source": [
    "We will drop July of 2017 because it's missing data, and it did show up as an anomly on previous plots."
   ]
  },
  {
   "cell_type": "code",
   "execution_count": 9,
   "id": "bb52c4c4",
   "metadata": {},
   "outputs": [],
   "source": [
    "df_agg_month = df_agg_month[:-1]"
   ]
  },
  {
   "cell_type": "markdown",
   "id": "ae4cd762",
   "metadata": {},
   "source": [
    "We will be attempting to forecast sales 6 months into the unknown future, and this will be the length of our Test set. "
   ]
  },
  {
   "cell_type": "code",
   "execution_count": 12,
   "id": "54a12e10",
   "metadata": {},
   "outputs": [],
   "source": [
    "df_train = df_agg_month[['sales']][:-6]"
   ]
  },
  {
   "cell_type": "code",
   "execution_count": 14,
   "id": "cf3c939f",
   "metadata": {},
   "outputs": [
    {
     "data": {
      "text/html": [
       "<div>\n",
       "<style scoped>\n",
       "    .dataframe tbody tr th:only-of-type {\n",
       "        vertical-align: middle;\n",
       "    }\n",
       "\n",
       "    .dataframe tbody tr th {\n",
       "        vertical-align: top;\n",
       "    }\n",
       "\n",
       "    .dataframe thead th {\n",
       "        text-align: right;\n",
       "    }\n",
       "</style>\n",
       "<table border=\"1\" class=\"dataframe\">\n",
       "  <thead>\n",
       "    <tr style=\"text-align: right;\">\n",
       "      <th></th>\n",
       "      <th>sales</th>\n",
       "    </tr>\n",
       "    <tr>\n",
       "      <th>date</th>\n",
       "      <th></th>\n",
       "    </tr>\n",
       "  </thead>\n",
       "  <tbody>\n",
       "    <tr>\n",
       "      <th>2016-09-30</th>\n",
       "      <td>2.241745e+07</td>\n",
       "    </tr>\n",
       "    <tr>\n",
       "      <th>2016-10-31</th>\n",
       "      <td>2.403039e+07</td>\n",
       "    </tr>\n",
       "    <tr>\n",
       "      <th>2016-11-30</th>\n",
       "      <td>2.464264e+07</td>\n",
       "    </tr>\n",
       "    <tr>\n",
       "      <th>2016-12-31</th>\n",
       "      <td>2.964029e+07</td>\n",
       "    </tr>\n",
       "    <tr>\n",
       "      <th>2017-01-31</th>\n",
       "      <td>2.632816e+07</td>\n",
       "    </tr>\n",
       "  </tbody>\n",
       "</table>\n",
       "</div>"
      ],
      "text/plain": [
       "                   sales\n",
       "date                    \n",
       "2016-09-30  2.241745e+07\n",
       "2016-10-31  2.403039e+07\n",
       "2016-11-30  2.464264e+07\n",
       "2016-12-31  2.964029e+07\n",
       "2017-01-31  2.632816e+07"
      ]
     },
     "execution_count": 14,
     "metadata": {},
     "output_type": "execute_result"
    }
   ],
   "source": [
    "df_train.tail()"
   ]
  },
  {
   "cell_type": "code",
   "execution_count": 15,
   "id": "3ce1c0e6",
   "metadata": {},
   "outputs": [],
   "source": [
    "df_test = df_agg_month[['sales']][-6:]"
   ]
  },
  {
   "cell_type": "code",
   "execution_count": 16,
   "id": "ef9999f9",
   "metadata": {},
   "outputs": [
    {
     "data": {
      "text/html": [
       "<div>\n",
       "<style scoped>\n",
       "    .dataframe tbody tr th:only-of-type {\n",
       "        vertical-align: middle;\n",
       "    }\n",
       "\n",
       "    .dataframe tbody tr th {\n",
       "        vertical-align: top;\n",
       "    }\n",
       "\n",
       "    .dataframe thead th {\n",
       "        text-align: right;\n",
       "    }\n",
       "</style>\n",
       "<table border=\"1\" class=\"dataframe\">\n",
       "  <thead>\n",
       "    <tr style=\"text-align: right;\">\n",
       "      <th></th>\n",
       "      <th>sales</th>\n",
       "    </tr>\n",
       "    <tr>\n",
       "      <th>date</th>\n",
       "      <th></th>\n",
       "    </tr>\n",
       "  </thead>\n",
       "  <tbody>\n",
       "    <tr>\n",
       "      <th>2017-02-28</th>\n",
       "      <td>2.325011e+07</td>\n",
       "    </tr>\n",
       "    <tr>\n",
       "      <th>2017-03-31</th>\n",
       "      <td>2.670402e+07</td>\n",
       "    </tr>\n",
       "    <tr>\n",
       "      <th>2017-04-30</th>\n",
       "      <td>2.589531e+07</td>\n",
       "    </tr>\n",
       "    <tr>\n",
       "      <th>2017-05-31</th>\n",
       "      <td>2.691185e+07</td>\n",
       "    </tr>\n",
       "    <tr>\n",
       "      <th>2017-06-30</th>\n",
       "      <td>2.568282e+07</td>\n",
       "    </tr>\n",
       "    <tr>\n",
       "      <th>2017-07-31</th>\n",
       "      <td>2.701148e+07</td>\n",
       "    </tr>\n",
       "  </tbody>\n",
       "</table>\n",
       "</div>"
      ],
      "text/plain": [
       "                   sales\n",
       "date                    \n",
       "2017-02-28  2.325011e+07\n",
       "2017-03-31  2.670402e+07\n",
       "2017-04-30  2.589531e+07\n",
       "2017-05-31  2.691185e+07\n",
       "2017-06-30  2.568282e+07\n",
       "2017-07-31  2.701148e+07"
      ]
     },
     "execution_count": 16,
     "metadata": {},
     "output_type": "execute_result"
    }
   ],
   "source": [
    "df_test"
   ]
  },
  {
   "cell_type": "markdown",
   "id": "c87d1b96",
   "metadata": {},
   "source": [
    "___\n",
    "\n",
    "## Modeling\n",
    "\n",
    "### ARIMA model"
   ]
  },
  {
   "cell_type": "code",
   "execution_count": 31,
   "id": "b59f67ab",
   "metadata": {},
   "outputs": [
    {
     "name": "stdout",
     "output_type": "stream",
     "text": [
      "Performing stepwise search to minimize aic\n",
      " ARIMA(0,1,0)(0,0,0)[0] intercept   : AIC=1581.575, Time=0.01 sec\n",
      " ARIMA(1,1,0)(0,0,0)[0] intercept   : AIC=1572.012, Time=0.02 sec\n",
      " ARIMA(0,1,1)(0,0,0)[0] intercept   : AIC=1572.910, Time=0.02 sec\n",
      " ARIMA(0,1,0)(0,0,0)[0]             : AIC=1580.068, Time=0.01 sec\n",
      " ARIMA(2,1,0)(0,0,0)[0] intercept   : AIC=1573.652, Time=0.01 sec\n",
      " ARIMA(1,1,1)(0,0,0)[0] intercept   : AIC=1573.669, Time=0.01 sec\n",
      " ARIMA(2,1,1)(0,0,0)[0] intercept   : AIC=1575.662, Time=0.02 sec\n",
      " ARIMA(1,1,0)(0,0,0)[0]             : AIC=1571.903, Time=0.01 sec\n",
      " ARIMA(2,1,0)(0,0,0)[0]             : AIC=1573.816, Time=0.01 sec\n",
      " ARIMA(1,1,1)(0,0,0)[0]             : AIC=1573.861, Time=0.01 sec\n",
      " ARIMA(0,1,1)(0,0,0)[0]             : AIC=1572.658, Time=0.01 sec\n",
      " ARIMA(2,1,1)(0,0,0)[0]             : AIC=1575.846, Time=0.01 sec\n",
      "\n",
      "Best model:  ARIMA(1,1,0)(0,0,0)[0]          \n",
      "Total fit time: 0.166 seconds\n"
     ]
    },
    {
     "data": {
      "text/html": [
       "<table class=\"simpletable\">\n",
       "<caption>SARIMAX Results</caption>\n",
       "<tr>\n",
       "  <th>Dep. Variable:</th>           <td>y</td>        <th>  No. Observations:  </th>    <td>49</td>   \n",
       "</tr>\n",
       "<tr>\n",
       "  <th>Model:</th>           <td>SARIMAX(1, 1, 0)</td> <th>  Log Likelihood     </th> <td>-783.952</td>\n",
       "</tr>\n",
       "<tr>\n",
       "  <th>Date:</th>            <td>Fri, 14 Apr 2023</td> <th>  AIC                </th> <td>1571.903</td>\n",
       "</tr>\n",
       "<tr>\n",
       "  <th>Time:</th>                <td>19:49:13</td>     <th>  BIC                </th> <td>1575.646</td>\n",
       "</tr>\n",
       "<tr>\n",
       "  <th>Sample:</th>             <td>01-31-2013</td>    <th>  HQIC               </th> <td>1573.317</td>\n",
       "</tr>\n",
       "<tr>\n",
       "  <th></th>                   <td>- 01-31-2017</td>   <th>                     </th>     <td> </td>   \n",
       "</tr>\n",
       "<tr>\n",
       "  <th>Covariance Type:</th>        <td>opg</td>       <th>                     </th>     <td> </td>   \n",
       "</tr>\n",
       "</table>\n",
       "<table class=\"simpletable\">\n",
       "<tr>\n",
       "     <td></td>       <th>coef</th>     <th>std err</th>      <th>z</th>      <th>P>|z|</th>  <th>[0.025</th>    <th>0.975]</th>  \n",
       "</tr>\n",
       "<tr>\n",
       "  <th>ar.L1</th>  <td>   -0.4021</td> <td>    0.090</td> <td>   -4.448</td> <td> 0.000</td> <td>   -0.579</td> <td>   -0.225</td>\n",
       "</tr>\n",
       "<tr>\n",
       "  <th>sigma2</th> <td> 8.866e+12</td> <td> 1.05e-15</td> <td> 8.42e+27</td> <td> 0.000</td> <td> 8.87e+12</td> <td> 8.87e+12</td>\n",
       "</tr>\n",
       "</table>\n",
       "<table class=\"simpletable\">\n",
       "<tr>\n",
       "  <th>Ljung-Box (L1) (Q):</th>     <td>0.84</td> <th>  Jarque-Bera (JB):  </th> <td>2.13</td> \n",
       "</tr>\n",
       "<tr>\n",
       "  <th>Prob(Q):</th>                <td>0.36</td> <th>  Prob(JB):          </th> <td>0.35</td> \n",
       "</tr>\n",
       "<tr>\n",
       "  <th>Heteroskedasticity (H):</th> <td>0.63</td> <th>  Skew:              </th> <td>-0.48</td>\n",
       "</tr>\n",
       "<tr>\n",
       "  <th>Prob(H) (two-sided):</th>    <td>0.36</td> <th>  Kurtosis:          </th> <td>3.37</td> \n",
       "</tr>\n",
       "</table><br/><br/>Warnings:<br/>[1] Covariance matrix calculated using the outer product of gradients (complex-step).<br/>[2] Covariance matrix is singular or near-singular, with condition number 4.67e+43. Standard errors may be unstable."
      ],
      "text/plain": [
       "<class 'statsmodels.iolib.summary.Summary'>\n",
       "\"\"\"\n",
       "                               SARIMAX Results                                \n",
       "==============================================================================\n",
       "Dep. Variable:                      y   No. Observations:                   49\n",
       "Model:               SARIMAX(1, 1, 0)   Log Likelihood                -783.952\n",
       "Date:                Fri, 14 Apr 2023   AIC                           1571.903\n",
       "Time:                        19:49:13   BIC                           1575.646\n",
       "Sample:                    01-31-2013   HQIC                          1573.317\n",
       "                         - 01-31-2017                                         \n",
       "Covariance Type:                  opg                                         \n",
       "==============================================================================\n",
       "                 coef    std err          z      P>|z|      [0.025      0.975]\n",
       "------------------------------------------------------------------------------\n",
       "ar.L1         -0.4021      0.090     -4.448      0.000      -0.579      -0.225\n",
       "sigma2      8.866e+12   1.05e-15   8.42e+27      0.000    8.87e+12    8.87e+12\n",
       "===================================================================================\n",
       "Ljung-Box (L1) (Q):                   0.84   Jarque-Bera (JB):                 2.13\n",
       "Prob(Q):                              0.36   Prob(JB):                         0.35\n",
       "Heteroskedasticity (H):               0.63   Skew:                            -0.48\n",
       "Prob(H) (two-sided):                  0.36   Kurtosis:                         3.37\n",
       "===================================================================================\n",
       "\n",
       "Warnings:\n",
       "[1] Covariance matrix calculated using the outer product of gradients (complex-step).\n",
       "[2] Covariance matrix is singular or near-singular, with condition number 4.67e+43. Standard errors may be unstable.\n",
       "\"\"\""
      ]
     },
     "execution_count": 31,
     "metadata": {},
     "output_type": "execute_result"
    }
   ],
   "source": [
    "stepwise_fit = auto_arima(df_train['sales'], start_p=0, start_q=0,\n",
    "                          max_p=2, max_q=2, m=0,\n",
    "                          seasonal=False,\n",
    "                          d=None, trace=True,\n",
    "                          error_action='ignore',   # we don't want to know if an order does not work\n",
    "                          suppress_warnings=True,  # we don't want convergence warnings\n",
    "                          stepwise=True)           # set to stepwise\n",
    "stepwise_fit.summary()"
   ]
  },
  {
   "cell_type": "code",
   "execution_count": 35,
   "id": "4d28c1a5",
   "metadata": {},
   "outputs": [
    {
     "name": "stderr",
     "output_type": "stream",
     "text": [
      "/Users/hamzaalbustanji/opt/anaconda3/lib/python3.9/site-packages/statsmodels/tsa/base/tsa_model.py:471: ValueWarning: No frequency information was provided, so inferred frequency M will be used.\n",
      "  self._init_dates(dates, freq)\n",
      "/Users/hamzaalbustanji/opt/anaconda3/lib/python3.9/site-packages/statsmodels/tsa/base/tsa_model.py:471: ValueWarning: No frequency information was provided, so inferred frequency M will be used.\n",
      "  self._init_dates(dates, freq)\n",
      "/Users/hamzaalbustanji/opt/anaconda3/lib/python3.9/site-packages/statsmodels/tsa/base/tsa_model.py:471: ValueWarning: No frequency information was provided, so inferred frequency M will be used.\n",
      "  self._init_dates(dates, freq)\n"
     ]
    },
    {
     "data": {
      "text/html": [
       "<table class=\"simpletable\">\n",
       "<caption>SARIMAX Results</caption>\n",
       "<tr>\n",
       "  <th>Dep. Variable:</th>         <td>sales</td>      <th>  No. Observations:  </th>    <td>49</td>   \n",
       "</tr>\n",
       "<tr>\n",
       "  <th>Model:</th>            <td>ARIMA(1, 1, 0)</td>  <th>  Log Likelihood     </th> <td>-783.952</td>\n",
       "</tr>\n",
       "<tr>\n",
       "  <th>Date:</th>            <td>Fri, 14 Apr 2023</td> <th>  AIC                </th> <td>1571.903</td>\n",
       "</tr>\n",
       "<tr>\n",
       "  <th>Time:</th>                <td>19:52:11</td>     <th>  BIC                </th> <td>1575.646</td>\n",
       "</tr>\n",
       "<tr>\n",
       "  <th>Sample:</th>             <td>01-31-2013</td>    <th>  HQIC               </th> <td>1573.317</td>\n",
       "</tr>\n",
       "<tr>\n",
       "  <th></th>                   <td>- 01-31-2017</td>   <th>                     </th>     <td> </td>   \n",
       "</tr>\n",
       "<tr>\n",
       "  <th>Covariance Type:</th>        <td>opg</td>       <th>                     </th>     <td> </td>   \n",
       "</tr>\n",
       "</table>\n",
       "<table class=\"simpletable\">\n",
       "<tr>\n",
       "     <td></td>       <th>coef</th>     <th>std err</th>      <th>z</th>      <th>P>|z|</th>  <th>[0.025</th>    <th>0.975]</th>  \n",
       "</tr>\n",
       "<tr>\n",
       "  <th>ar.L1</th>  <td>   -0.4021</td> <td>    0.090</td> <td>   -4.448</td> <td> 0.000</td> <td>   -0.579</td> <td>   -0.225</td>\n",
       "</tr>\n",
       "<tr>\n",
       "  <th>sigma2</th> <td> 8.866e+12</td> <td> 1.05e-15</td> <td> 8.42e+27</td> <td> 0.000</td> <td> 8.87e+12</td> <td> 8.87e+12</td>\n",
       "</tr>\n",
       "</table>\n",
       "<table class=\"simpletable\">\n",
       "<tr>\n",
       "  <th>Ljung-Box (L1) (Q):</th>     <td>0.84</td> <th>  Jarque-Bera (JB):  </th> <td>2.13</td> \n",
       "</tr>\n",
       "<tr>\n",
       "  <th>Prob(Q):</th>                <td>0.36</td> <th>  Prob(JB):          </th> <td>0.35</td> \n",
       "</tr>\n",
       "<tr>\n",
       "  <th>Heteroskedasticity (H):</th> <td>0.63</td> <th>  Skew:              </th> <td>-0.48</td>\n",
       "</tr>\n",
       "<tr>\n",
       "  <th>Prob(H) (two-sided):</th>    <td>0.36</td> <th>  Kurtosis:          </th> <td>3.37</td> \n",
       "</tr>\n",
       "</table><br/><br/>Warnings:<br/>[1] Covariance matrix calculated using the outer product of gradients (complex-step).<br/>[2] Covariance matrix is singular or near-singular, with condition number 4.67e+43. Standard errors may be unstable."
      ],
      "text/plain": [
       "<class 'statsmodels.iolib.summary.Summary'>\n",
       "\"\"\"\n",
       "                               SARIMAX Results                                \n",
       "==============================================================================\n",
       "Dep. Variable:                  sales   No. Observations:                   49\n",
       "Model:                 ARIMA(1, 1, 0)   Log Likelihood                -783.952\n",
       "Date:                Fri, 14 Apr 2023   AIC                           1571.903\n",
       "Time:                        19:52:11   BIC                           1575.646\n",
       "Sample:                    01-31-2013   HQIC                          1573.317\n",
       "                         - 01-31-2017                                         \n",
       "Covariance Type:                  opg                                         \n",
       "==============================================================================\n",
       "                 coef    std err          z      P>|z|      [0.025      0.975]\n",
       "------------------------------------------------------------------------------\n",
       "ar.L1         -0.4021      0.090     -4.448      0.000      -0.579      -0.225\n",
       "sigma2      8.866e+12   1.05e-15   8.42e+27      0.000    8.87e+12    8.87e+12\n",
       "===================================================================================\n",
       "Ljung-Box (L1) (Q):                   0.84   Jarque-Bera (JB):                 2.13\n",
       "Prob(Q):                              0.36   Prob(JB):                         0.35\n",
       "Heteroskedasticity (H):               0.63   Skew:                            -0.48\n",
       "Prob(H) (two-sided):                  0.36   Kurtosis:                         3.37\n",
       "===================================================================================\n",
       "\n",
       "Warnings:\n",
       "[1] Covariance matrix calculated using the outer product of gradients (complex-step).\n",
       "[2] Covariance matrix is singular or near-singular, with condition number 4.67e+43. Standard errors may be unstable.\n",
       "\"\"\""
      ]
     },
     "execution_count": 35,
     "metadata": {},
     "output_type": "execute_result"
    }
   ],
   "source": [
    "# model fitting\n",
    "arima_model = ARIMA(df_train['sales'],order=(1,1,0))\n",
    "results = arima_model.fit()\n",
    "results.summary()"
   ]
  },
  {
   "cell_type": "code",
   "execution_count": 37,
   "id": "6bfb5b0a",
   "metadata": {},
   "outputs": [],
   "source": [
    "# Obtain predicted values\n",
    "start=len(df_train)\n",
    "end=len(df_train)+len(df_test)-1\n",
    "predictions = results.predict(start=start, end=end, dynamic=False, typ='levels').rename('ARIMA(1,1,0) Predictions')"
   ]
  },
  {
   "cell_type": "markdown",
   "id": "74a25c3d",
   "metadata": {},
   "source": [
    "Displaying predicted values compared to actual values:"
   ]
  },
  {
   "cell_type": "code",
   "execution_count": 42,
   "id": "85197855",
   "metadata": {},
   "outputs": [
    {
     "name": "stdout",
     "output_type": "stream",
     "text": [
      "predicted=27660121.58, expected=23250112.3749368\n",
      "predicted=27124477.42, expected=26704017.6908793\n",
      "predicted=27339885.02, expected=25895308.489555094\n",
      "predicted=27253259.54, expected=26911847.250593\n",
      "predicted=27288095.7 , expected=25682822.1249936\n",
      "predicted=27274086.45, expected=27011477.5658307\n"
     ]
    }
   ],
   "source": [
    "for i in range(len(predictions)):\n",
    "    print(f\"predicted={predictions[i]:<11.10}, expected={df_test['sales'][i]}\")"
   ]
  },
  {
   "cell_type": "code",
   "execution_count": 55,
   "id": "7064dd5e",
   "metadata": {},
   "outputs": [
    {
     "data": {
      "image/png": "[encoded data removed]",
      "text/plain": [
       "<Figure size 1200x600 with 1 Axes>"
      ]
     },
     "metadata": {},
     "output_type": "display_data"
    }
   ],
   "source": [
    "# Plot predictions against known values\n",
    "formatter = ticker.StrMethodFormatter('{x:,.0f}')\n",
    "title = 'Real Sales and Predicted Sales'\n",
    "ylabel='Sales'\n",
    "xlabel='' # we don't really need a label here\n",
    "\n",
    "ax = df_test['sales'].plot(legend=True,figsize=(12,6),title=title)\n",
    "predictions.plot(legend=True)\n",
    "ax.autoscale(axis='x',tight=True)\n",
    "ax.set(xlabel=xlabel, ylabel=ylabel)\n",
    "ax.yaxis.set_major_formatter(formatter);"
   ]
  },
  {
   "cell_type": "code",
   "execution_count": 63,
   "id": "01c1652e",
   "metadata": {},
   "outputs": [
    {
     "data": {
      "image/png": "[encoded data removed]",
      "text/plain": [
       "<Figure size 1200x600 with 1 Axes>"
      ]
     },
     "metadata": {},
     "output_type": "display_data"
    }
   ],
   "source": [
    "# Plot predictions against known values\n",
    "title = 'Real Sales and Predicted Sales'\n",
    "ylabel='Sales'\n",
    "xlabel='' # we don't really need a label here\n",
    "\n",
    "ax = df_train['sales'].plot(legend=True,figsize=(12,6),title=title)\n",
    "predictions.plot(legend=True)\n",
    "ax.autoscale(axis='x',tight=True)\n",
    "ax.set(xlabel=xlabel, ylabel=ylabel)\n",
    "ax.yaxis.set_major_formatter(formatter);"
   ]
  },
  {
   "cell_type": "code",
   "execution_count": null,
   "id": "1829d392",
   "metadata": {},
   "outputs": [],
   "source": []
  },
  {
   "cell_type": "markdown",
   "id": "7cc7b39a",
   "metadata": {},
   "source": [
    "### SARIMA model"
   ]
  },
  {
   "cell_type": "code",
   "execution_count": null,
   "id": "50a473e8",
   "metadata": {},
   "outputs": [],
   "source": []
  },
  {
   "cell_type": "markdown",
   "id": "f4f2df08",
   "metadata": {},
   "source": [
    "###  Prophet model"
   ]
  },
  {
   "cell_type": "code",
   "execution_count": null,
   "id": "b3e315c0",
   "metadata": {},
   "outputs": [],
   "source": []
  }
 ],
 "metadata": {
  "kernelspec": {
   "display_name": "Python 3 (ipykernel)",
   "language": "python",
   "name": "python3"
  },
  "language_info": {
   "codemirror_mode": {
    "name": "ipython",
    "version": 3
   },
   "file_extension": ".py",
   "mimetype": "text/x-python",
   "name": "python",
   "nbconvert_exporter": "python",
   "pygments_lexer": "ipython3",
   "version": "3.9.15"
  }
 },
 "nbformat": 4,
 "nbformat_minor": 5
}
